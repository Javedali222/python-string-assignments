{
 "cells": [
  {
   "cell_type": "markdown",
   "id": "8d0c4205-b3b0-48c5-83d5-3430aa8e894e",
   "metadata": {
    "scrolled": true
   },
   "source": [
    "Ans:1"
   ]
  },
  {
   "cell_type": "code",
   "execution_count": 3,
   "id": "3189ab25-abee-44b7-8fad-e08517cc2119",
   "metadata": {},
   "outputs": [
    {
     "name": "stdout",
     "output_type": "stream",
     "text": [
      "Hello World\n"
     ]
    }
   ],
   "source": [
    "print(\"Hello\", end=' ')\n",
    "print(\"World\")\n"
   ]
  },
  {
   "cell_type": "markdown",
   "id": "e539d1f9-7a2f-4d82-b695-f0b7a7ece92a",
   "metadata": {},
   "source": [
    "Ans:2"
   ]
  },
  {
   "cell_type": "code",
   "execution_count": 1,
   "id": "89299ded-a628-4787-8989-f56655c44e4f",
   "metadata": {},
   "outputs": [
    {
     "name": "stdout",
     "output_type": "stream",
     "text": [
      "Hello World\n",
      "Javed Ali\n"
     ]
    }
   ],
   "source": [
    "s1 = \"Hello\"\n",
    "s2 = \" World\"\n",
    "print(s1+s2)\n",
    "\n",
    "t1=(\"Javed\", \"Ali\")\n",
    "x= \" \".join(t1)\n",
    "print(x)\n"
   ]
  },
  {
   "cell_type": "markdown",
   "id": "ad4efa92-d1ec-4ee3-92c4-96ad3fa9af4a",
   "metadata": {},
   "source": [
    "Ans:3"
   ]
  },
  {
   "cell_type": "code",
   "execution_count": 7,
   "id": "c8f143b3-d31e-43f8-9765-940e455c2964",
   "metadata": {},
   "outputs": [
    {
     "data": {
      "text/plain": [
       "'h'"
      ]
     },
     "execution_count": 7,
     "metadata": {},
     "output_type": "execute_result"
    }
   ],
   "source": [
    "string =\"Python\"\n",
    "string[3]\n"
   ]
  },
  {
   "cell_type": "markdown",
   "id": "5e4f1e80-f61e-4438-9746-87368b6059e9",
   "metadata": {},
   "source": [
    "Ans:4"
   ]
  },
  {
   "cell_type": "code",
   "execution_count": 8,
   "id": "b81b0f81-955b-4125-b8f4-ddf144fd75b7",
   "metadata": {},
   "outputs": [
    {
     "data": {
      "text/plain": [
       "6"
      ]
     },
     "execution_count": 8,
     "metadata": {},
     "output_type": "execute_result"
    }
   ],
   "source": [
    "len(string)\n"
   ]
  },
  {
   "cell_type": "markdown",
   "id": "0bcad73d-ca3e-42e7-94eb-1731eb8c4abe",
   "metadata": {},
   "source": [
    "Ans:5"
   ]
  },
  {
   "cell_type": "code",
   "execution_count": 2,
   "id": "23504dd4-363f-41f2-a165-1fb668ade41a",
   "metadata": {},
   "outputs": [
    {
     "name": "stdout",
     "output_type": "stream",
     "text": [
      "JAVED\n"
     ]
    }
   ],
   "source": [
    "t1=\"javed\"\n",
    "print(t1.upper())\n"
   ]
  },
  {
   "cell_type": "code",
   "execution_count": 12,
   "id": "a3e60c35-f236-44d1-a90a-6fa45b005593",
   "metadata": {},
   "outputs": [],
   "source": [
    "Ans:6"
   ]
  },
  {
   "cell_type": "code",
   "execution_count": 3,
   "id": "2c0e8eee-65cc-401c-a450-58c75e6dee0b",
   "metadata": {},
   "outputs": [
    {
     "name": "stdout",
     "output_type": "stream",
     "text": [
      "javed\n"
     ]
    }
   ],
   "source": [
    "a1=\"JAVED\"\n",
    "print(a1.lower())"
   ]
  },
  {
   "cell_type": "markdown",
   "id": "58922da4-0efb-4731-bb3f-1faeb8104741",
   "metadata": {},
   "source": [
    "Ans:7"
   ]
  },
  {
   "cell_type": "code",
   "execution_count": 16,
   "id": "27290e35-00bf-4001-ab4d-5a6b66a5d3a5",
   "metadata": {},
   "outputs": [
    {
     "name": "stdout",
     "output_type": "stream",
     "text": [
      "Good Bye World\n"
     ]
    }
   ],
   "source": [
    "b1=\"Hello World\"\n",
    "c1= b1.replace(\"Hello\", \"Good Bye\")\n",
    "print(c1)"
   ]
  },
  {
   "cell_type": "markdown",
   "id": "c88aa2ee-a16c-4d33-b1da-f2ec862304ea",
   "metadata": {},
   "source": [
    "Ans:8"
   ]
  },
  {
   "cell_type": "code",
   "execution_count": 18,
   "id": "45e4225a-ff64-4611-8186-a23d0284e8bf",
   "metadata": {},
   "outputs": [
    {
     "name": "stdout",
     "output_type": "stream",
     "text": [
      "['Hello', 'World']\n"
     ]
    }
   ],
   "source": [
    "mystr=\"Hello World\"\n",
    "mylist= mystr.split()\n",
    "print(mylist)"
   ]
  },
  {
   "cell_type": "markdown",
   "id": "f230add8-bea7-4d77-a584-2f84a60a01d8",
   "metadata": {},
   "source": [
    "Ans:9"
   ]
  },
  {
   "cell_type": "code",
   "execution_count": 4,
   "id": "05124a20-60e0-4884-b9bb-80ee019d3d0d",
   "metadata": {},
   "outputs": [
    {
     "name": "stdout",
     "output_type": "stream",
     "text": [
      "True\n"
     ]
    }
   ],
   "source": [
    "a1=\"Hello each and everyone\"\n",
    "r=a1.startswith(('Hello'))\n",
    "print(r)"
   ]
  },
  {
   "cell_type": "markdown",
   "id": "cb566dc3-116b-4ffc-9bfe-5d49b75436c6",
   "metadata": {},
   "source": [
    "Ans:10"
   ]
  },
  {
   "cell_type": "code",
   "execution_count": 24,
   "id": "8a8283fa-f382-4d11-9003-e43992309c7d",
   "metadata": {},
   "outputs": [
    {
     "name": "stdout",
     "output_type": "stream",
     "text": [
      "True\n"
     ]
    }
   ],
   "source": [
    "a2=\"Hello\"\n",
    "r2=a2.endswith(('o'))\n",
    "print(r2)"
   ]
  },
  {
   "cell_type": "markdown",
   "id": "da20f3c4-16c3-4ccb-8969-2b4b45dbdf59",
   "metadata": {},
   "source": [
    "Ans:11"
   ]
  },
  {
   "cell_type": "code",
   "execution_count": 27,
   "id": "684d3f7f-a1bc-4d3e-9d91-cd21799466e7",
   "metadata": {},
   "outputs": [
    {
     "name": "stdout",
     "output_type": "stream",
     "text": [
      "I m learning Python\n"
     ]
    }
   ],
   "source": [
    "txt=\"    I m learning Python  \"\n",
    "txt2=txt.strip()\n",
    "print(txt2) "
   ]
  },
  {
   "cell_type": "markdown",
   "id": "7162cb05-c8a1-4d4f-a563-1275eca67661",
   "metadata": {},
   "source": [
    "Ans:12"
   ]
  },
  {
   "cell_type": "code",
   "execution_count": 32,
   "id": "db611506-1e9c-4a08-a84c-3df801f6fe32",
   "metadata": {},
   "outputs": [
    {
     "data": {
      "text/plain": [
       "2"
      ]
     },
     "execution_count": 32,
     "metadata": {},
     "output_type": "execute_result"
    }
   ],
   "source": [
    "t2=\"I am learning Python\"\n",
    "t2.find('am')"
   ]
  },
  {
   "cell_type": "markdown",
   "id": "43c63506-7063-4168-b1dc-aac97aeb24ba",
   "metadata": {},
   "source": [
    "Ans:13"
   ]
  },
  {
   "cell_type": "code",
   "execution_count": 5,
   "id": "1dca05de-9759-445a-a5d8-56facb014a25",
   "metadata": {},
   "outputs": [
    {
     "name": "stdout",
     "output_type": "stream",
     "text": [
      "2\n"
     ]
    }
   ],
   "source": [
    "str=\"agra\"\n",
    "str1=str.count('a')\n",
    "print(str1)"
   ]
  },
  {
   "cell_type": "markdown",
   "id": "38051c50-aee4-470c-8b04-dcdea3c10d7f",
   "metadata": {},
   "source": [
    "Ans:14"
   ]
  },
  {
   "cell_type": "code",
   "execution_count": 46,
   "id": "de7f4d7b-0b4b-43a6-9930-9d8a04e2b394",
   "metadata": {},
   "outputs": [
    {
     "name": "stdout",
     "output_type": "stream",
     "text": [
      "True\n"
     ]
    }
   ],
   "source": [
    "a5=\"Hello\"\n",
    "print(a5.isalpha())"
   ]
  },
  {
   "cell_type": "markdown",
   "id": "56539a3f-b1ec-43e7-a968-e001871e52f2",
   "metadata": {},
   "source": [
    "Ans:15"
   ]
  },
  {
   "cell_type": "code",
   "execution_count": 48,
   "id": "53b8f8d4-4b83-4c57-b37a-41dcaf1258f3",
   "metadata": {},
   "outputs": [
    {
     "name": "stdout",
     "output_type": "stream",
     "text": [
      "False\n",
      "True\n"
     ]
    }
   ],
   "source": [
    "a6=\"Hello123\"\n",
    "print(a6.isnumeric())\n",
    "a7=\"1235\"\n",
    "print(a7.isnumeric())"
   ]
  },
  {
   "cell_type": "markdown",
   "id": "99622a6f-a1ab-4ed3-af2f-5bc526f9ffcd",
   "metadata": {},
   "source": [
    "Ans:16"
   ]
  },
  {
   "cell_type": "code",
   "execution_count": 62,
   "id": "1eaf09f3-d533-432d-ad78-46d06b5530b3",
   "metadata": {},
   "outputs": [
    {
     "name": "stdout",
     "output_type": "stream",
     "text": [
      "Yes\n"
     ]
    }
   ],
   "source": [
    "def ispalindrome(s):\n",
    "    return s == s[::-1]\n",
    "    \n",
    "s = \"rivir\"\n",
    "ans = ispalindrome(s)\n",
    "if ans:\n",
    "    print(\"Yes\")\n",
    "else:\n",
    "    print(\"No\")"
   ]
  },
  {
   "cell_type": "markdown",
   "id": "62b05825-c6e2-4f4d-a323-cd399fd8e403",
   "metadata": {},
   "source": [
    "Ans:17"
   ]
  },
  {
   "cell_type": "code",
   "execution_count": 64,
   "id": "0a0df692-d604-40c9-9e7e-8a952993794e",
   "metadata": {},
   "outputs": [
    {
     "name": "stdout",
     "output_type": "stream",
     "text": [
      "olleH\n"
     ]
    }
   ],
   "source": [
    "st1=\"Hello\"\n",
    "print(st1[::-1])\n"
   ]
  },
  {
   "cell_type": "markdown",
   "id": "131d6bc9-315d-4a69-a950-cea222f7e78d",
   "metadata": {},
   "source": [
    "Ans:18"
   ]
  },
  {
   "cell_type": "code",
   "execution_count": 6,
   "id": "1fb309b0-b625-4868-861b-074d58bf32bf",
   "metadata": {},
   "outputs": [
    {
     "name": "stdout",
     "output_type": "stream",
     "text": [
      "ur age is 24 and name is Javed\n"
     ]
    }
   ],
   "source": [
    "name = \"Javed\"\n",
    "age = 24\n",
    "msg = f\"ur age is {age} and name is {name}\"\n",
    "print (msg)"
   ]
  },
  {
   "cell_type": "markdown",
   "id": "8281d62c-f439-4c03-a542-0e044d95e54a",
   "metadata": {},
   "source": [
    "Ans:19"
   ]
  },
  {
   "cell_type": "code",
   "execution_count": 75,
   "id": "5bff3665-f4f4-4e1a-9483-b96390e14103",
   "metadata": {},
   "outputs": [
    {
     "name": "stdout",
     "output_type": "stream",
     "text": [
      "each and\n"
     ]
    }
   ],
   "source": [
    "st2=\"Hello each and everyone\"\n",
    "print(st2[6:14])"
   ]
  },
  {
   "cell_type": "markdown",
   "id": "a26f0457-ca36-4215-9889-76ec22e7dfe8",
   "metadata": {},
   "source": [
    "Ans:20"
   ]
  },
  {
   "cell_type": "code",
   "execution_count": 78,
   "id": "3458488f-c46c-4b28-ac24-83490973d1e2",
   "metadata": {},
   "outputs": [
    {
     "name": "stdout",
     "output_type": "stream",
     "text": [
      "Hello each and everyone\n"
     ]
    }
   ],
   "source": [
    "mystg=\"Hello! each and! everyone!\"\n",
    "\n",
    "nwstg=mystg.translate( { ord(\"!\"): None } )\n",
    "\n",
    "print(nwstg)"
   ]
  },
  {
   "cell_type": "code",
   "execution_count": null,
   "id": "a3e51c4c-a290-4437-a011-7a85eb1ce2d1",
   "metadata": {},
   "outputs": [],
   "source": []
  }
 ],
 "metadata": {
  "kernelspec": {
   "display_name": "Python 3 (ipykernel)",
   "language": "python",
   "name": "python3"
  },
  "language_info": {
   "codemirror_mode": {
    "name": "ipython",
    "version": 3
   },
   "file_extension": ".py",
   "mimetype": "text/x-python",
   "name": "python",
   "nbconvert_exporter": "python",
   "pygments_lexer": "ipython3",
   "version": "3.12.4"
  }
 },
 "nbformat": 4,
 "nbformat_minor": 5
}
